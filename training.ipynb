{
 "cells": [
  {
   "attachments": {},
   "cell_type": "markdown",
   "id": "f35f30f6-4625-48fd-b321-fdb885e1eda9",
   "metadata": {
    "jp-MarkdownHeadingCollapsed": true,
    "tags": []
   },
   "source": [
    "# Setup"
   ]
  },
  {
   "cell_type": "code",
   "execution_count": 2,
   "id": "8300768a-38b2-47d6-ae2f-1bd526805dea",
   "metadata": {},
   "outputs": [],
   "source": [
    "# Import libraries\n",
    "import numpy as np\n",
    "import pandas as pd\n",
    "import matplotlib.pyplot as plt\n",
    "from xgboost import XGBClassifier\n",
    "from xgboost import plot_importance\n",
    "from sklearn.preprocessing import LabelEncoder\n",
    "from sklearn.model_selection import train_test_split\n",
    "from sklearn.utils import resample\n",
    "from sklearn.metrics import classification_report\n",
    "from sklearn.metrics import confusion_matrix\n",
    "\n",
    "# Suppress warnings\n",
    "import warnings\n",
    "warnings.filterwarnings(\"ignore\")"
   ]
  },
  {
   "cell_type": "code",
   "execution_count": 67,
   "id": "9758da4c-8ac1-4053-9284-461322f958c6",
   "metadata": {},
   "outputs": [],
   "source": [
    "# Load cleaned data\n",
    "filepath = '../data/'\n",
    "df = pd.read_csv(filepath + 'cleaned_dataset.csv')"
   ]
  },
  {
   "cell_type": "code",
   "execution_count": 93,
   "id": "ece9548c-ab4f-4e70-bea1-cce4f43935cd",
   "metadata": {},
   "outputs": [
    {
     "name": "stdout",
     "output_type": "stream",
     "text": [
      "(109950743, 15)\n"
     ]
    },
    {
     "data": {
      "text/html": [
       "<div>\n",
       "<style scoped>\n",
       "    .dataframe tbody tr th:only-of-type {\n",
       "        vertical-align: middle;\n",
       "    }\n",
       "\n",
       "    .dataframe tbody tr th {\n",
       "        vertical-align: top;\n",
       "    }\n",
       "\n",
       "    .dataframe thead th {\n",
       "        text-align: right;\n",
       "    }\n",
       "</style>\n",
       "<table border=\"1\" class=\"dataframe\">\n",
       "  <thead>\n",
       "    <tr style=\"text-align: right;\">\n",
       "      <th></th>\n",
       "      <th>event_time</th>\n",
       "      <th>event_type</th>\n",
       "      <th>product_id</th>\n",
       "      <th>category_id</th>\n",
       "      <th>category_code</th>\n",
       "      <th>brand</th>\n",
       "      <th>price</th>\n",
       "      <th>user_id</th>\n",
       "      <th>user_session</th>\n",
       "      <th>category</th>\n",
       "      <th>datetime</th>\n",
       "      <th>date</th>\n",
       "      <th>time</th>\n",
       "      <th>day</th>\n",
       "      <th>category_2</th>\n",
       "    </tr>\n",
       "  </thead>\n",
       "  <tbody>\n",
       "    <tr>\n",
       "      <th>0</th>\n",
       "      <td>2019-10-01 00:00:00 UTC</td>\n",
       "      <td>view</td>\n",
       "      <td>44600062</td>\n",
       "      <td>2103807459595387724</td>\n",
       "      <td>none</td>\n",
       "      <td>shiseido</td>\n",
       "      <td>35.79</td>\n",
       "      <td>541312140</td>\n",
       "      <td>72d76fde-8bb3-4e00-8c23-a032dfed738c</td>\n",
       "      <td>none</td>\n",
       "      <td>2019-10-01 00:00:00+00:00</td>\n",
       "      <td>2019-10-01</td>\n",
       "      <td>00:00:00</td>\n",
       "      <td>Tuesday</td>\n",
       "      <td>None</td>\n",
       "    </tr>\n",
       "    <tr>\n",
       "      <th>1</th>\n",
       "      <td>2019-10-01 00:00:00 UTC</td>\n",
       "      <td>view</td>\n",
       "      <td>3900821</td>\n",
       "      <td>2053013552326770905</td>\n",
       "      <td>appliances.environment.water_heater</td>\n",
       "      <td>aqua</td>\n",
       "      <td>33.20</td>\n",
       "      <td>554748717</td>\n",
       "      <td>9333dfbd-b87a-4708-9857-6336556b0fcc</td>\n",
       "      <td>appliances</td>\n",
       "      <td>2019-10-01 00:00:00+00:00</td>\n",
       "      <td>2019-10-01</td>\n",
       "      <td>00:00:00</td>\n",
       "      <td>Tuesday</td>\n",
       "      <td>environment</td>\n",
       "    </tr>\n",
       "    <tr>\n",
       "      <th>2</th>\n",
       "      <td>2019-10-01 00:00:01 UTC</td>\n",
       "      <td>view</td>\n",
       "      <td>17200506</td>\n",
       "      <td>2053013559792632471</td>\n",
       "      <td>furniture.living_room.sofa</td>\n",
       "      <td>none</td>\n",
       "      <td>543.10</td>\n",
       "      <td>519107250</td>\n",
       "      <td>566511c2-e2e3-422b-b695-cf8e6e792ca8</td>\n",
       "      <td>furniture</td>\n",
       "      <td>2019-10-01 00:00:01+00:00</td>\n",
       "      <td>2019-10-01</td>\n",
       "      <td>00:00:01</td>\n",
       "      <td>Tuesday</td>\n",
       "      <td>living_room</td>\n",
       "    </tr>\n",
       "    <tr>\n",
       "      <th>3</th>\n",
       "      <td>2019-10-01 00:00:01 UTC</td>\n",
       "      <td>view</td>\n",
       "      <td>1307067</td>\n",
       "      <td>2053013558920217191</td>\n",
       "      <td>computers.notebook</td>\n",
       "      <td>lenovo</td>\n",
       "      <td>251.74</td>\n",
       "      <td>550050854</td>\n",
       "      <td>7c90fc70-0e80-4590-96f3-13c02c18c713</td>\n",
       "      <td>computers</td>\n",
       "      <td>2019-10-01 00:00:01+00:00</td>\n",
       "      <td>2019-10-01</td>\n",
       "      <td>00:00:01</td>\n",
       "      <td>Tuesday</td>\n",
       "      <td>notebook</td>\n",
       "    </tr>\n",
       "    <tr>\n",
       "      <th>4</th>\n",
       "      <td>2019-10-01 00:00:04 UTC</td>\n",
       "      <td>view</td>\n",
       "      <td>1004237</td>\n",
       "      <td>2053013555631882655</td>\n",
       "      <td>electronics.smartphone</td>\n",
       "      <td>apple</td>\n",
       "      <td>1081.98</td>\n",
       "      <td>535871217</td>\n",
       "      <td>c6bd7419-2748-4c56-95b4-8cec9ff8b80d</td>\n",
       "      <td>electronics</td>\n",
       "      <td>2019-10-01 00:00:04+00:00</td>\n",
       "      <td>2019-10-01</td>\n",
       "      <td>00:00:04</td>\n",
       "      <td>Tuesday</td>\n",
       "      <td>smartphone</td>\n",
       "    </tr>\n",
       "  </tbody>\n",
       "</table>\n",
       "</div>"
      ],
      "text/plain": [
       "                event_time event_type  product_id          category_id  \\\n",
       "0  2019-10-01 00:00:00 UTC       view    44600062  2103807459595387724   \n",
       "1  2019-10-01 00:00:00 UTC       view     3900821  2053013552326770905   \n",
       "2  2019-10-01 00:00:01 UTC       view    17200506  2053013559792632471   \n",
       "3  2019-10-01 00:00:01 UTC       view     1307067  2053013558920217191   \n",
       "4  2019-10-01 00:00:04 UTC       view     1004237  2053013555631882655   \n",
       "\n",
       "                         category_code     brand    price    user_id  \\\n",
       "0                                 none  shiseido    35.79  541312140   \n",
       "1  appliances.environment.water_heater      aqua    33.20  554748717   \n",
       "2           furniture.living_room.sofa      none   543.10  519107250   \n",
       "3                   computers.notebook    lenovo   251.74  550050854   \n",
       "4               electronics.smartphone     apple  1081.98  535871217   \n",
       "\n",
       "                           user_session     category  \\\n",
       "0  72d76fde-8bb3-4e00-8c23-a032dfed738c         none   \n",
       "1  9333dfbd-b87a-4708-9857-6336556b0fcc   appliances   \n",
       "2  566511c2-e2e3-422b-b695-cf8e6e792ca8    furniture   \n",
       "3  7c90fc70-0e80-4590-96f3-13c02c18c713    computers   \n",
       "4  c6bd7419-2748-4c56-95b4-8cec9ff8b80d  electronics   \n",
       "\n",
       "                    datetime        date      time      day   category_2  \n",
       "0  2019-10-01 00:00:00+00:00  2019-10-01  00:00:00  Tuesday         None  \n",
       "1  2019-10-01 00:00:00+00:00  2019-10-01  00:00:00  Tuesday  environment  \n",
       "2  2019-10-01 00:00:01+00:00  2019-10-01  00:00:01  Tuesday  living_room  \n",
       "3  2019-10-01 00:00:01+00:00  2019-10-01  00:00:01  Tuesday     notebook  \n",
       "4  2019-10-01 00:00:04+00:00  2019-10-01  00:00:04  Tuesday   smartphone  "
      ]
     },
     "execution_count": 93,
     "metadata": {},
     "output_type": "execute_result"
    }
   ],
   "source": [
    "print(df.shape)\n",
    "df.head()"
   ]
  },
  {
   "attachments": {},
   "cell_type": "markdown",
   "id": "0a93172a-e8b6-4c44-bbfa-0e3db1fe638f",
   "metadata": {
    "jp-MarkdownHeadingCollapsed": true,
    "tags": []
   },
   "source": [
    "# Prepare the data for training"
   ]
  },
  {
   "attachments": {},
   "cell_type": "markdown",
   "id": "1702e0f5-b945-4e1c-b525-2d3699e81631",
   "metadata": {},
   "source": [
    "Since we are interested in lowering the shopping cart abandonment rate, therefore increasing the conversion rate from cart to purchase, we will retain a subset of the data on customer activity where an item was placed in the cart."
   ]
  },
  {
   "cell_type": "code",
   "execution_count": 94,
   "id": "2028c8af-0f29-489c-8c72-5f59a15851f2",
   "metadata": {},
   "outputs": [],
   "source": [
    "# Get activity with cart and purchase events\n",
    "sliced_cart_purchase = df.loc[df['event_type'].isin(['cart','purchase'])]"
   ]
  },
  {
   "cell_type": "code",
   "execution_count": 95,
   "id": "2a485c64-1e9f-4ea3-8dae-d061eaa48664",
   "metadata": {},
   "outputs": [
    {
     "data": {
      "text/plain": [
       "5615234"
      ]
     },
     "execution_count": 95,
     "metadata": {},
     "output_type": "execute_result"
    }
   ],
   "source": [
    "# Check number of rows\n",
    "len(sliced_cart_purchase)"
   ]
  },
  {
   "cell_type": "code",
   "execution_count": 96,
   "id": "cf357753-449b-4de7-bd13-d053a020a69a",
   "metadata": {},
   "outputs": [],
   "source": [
    "# Add `converted` column and set 1 if purchased or 0 if not purchased \n",
    "sliced_cart_purchase['converted'] = np.where(sliced_cart_purchase['event_type'] == 'purchase', 1, 0)"
   ]
  },
  {
   "cell_type": "code",
   "execution_count": 97,
   "id": "e632a02a-06bc-42cb-9f44-5b9e05439ac3",
   "metadata": {},
   "outputs": [],
   "source": [
    "# Group events by user_session and product_id and retain the max value in 'converted' to determine if the product was purchased in the same user_session\n",
    "sliced_cart_purchase['converted'] = sliced_cart_purchase.groupby(['user_session','product_id'])['converted'].transform('max')"
   ]
  },
  {
   "cell_type": "code",
   "execution_count": 98,
   "id": "dc653bf7-7ef4-4afd-b3e8-aed87309fd6b",
   "metadata": {},
   "outputs": [],
   "source": [
    "# Keep cart events and drop duplicates\n",
    "sliced_cart_purchase = sliced_cart_purchase.loc[sliced_cart_purchase['event_type'] == 'cart'].drop_duplicates(['user_session','product_id','converted'])"
   ]
  },
  {
   "cell_type": "code",
   "execution_count": 99,
   "id": "1286eb8a-b9de-4289-853b-e236a9c8e898",
   "metadata": {},
   "outputs": [
    {
     "data": {
      "text/plain": [
       "cart    2681986\n",
       "Name: event_type, dtype: int64"
      ]
     },
     "execution_count": 99,
     "metadata": {},
     "output_type": "execute_result"
    }
   ],
   "source": [
    "# The dataframe should now only have cart events\n",
    "sliced_cart_purchase['event_type'].value_counts()"
   ]
  },
  {
   "cell_type": "code",
   "execution_count": 100,
   "id": "36a63b23-b13a-4613-90ed-b1b8cbea0272",
   "metadata": {},
   "outputs": [
    {
     "data": {
      "text/plain": [
       "2681986"
      ]
     },
     "execution_count": 100,
     "metadata": {},
     "output_type": "execute_result"
    }
   ],
   "source": [
    "# Check updated number of rows\n",
    "len(sliced_cart_purchase)"
   ]
  },
  {
   "cell_type": "code",
   "execution_count": 101,
   "id": "8095015f-d607-4d76-8845-f0a0702982e5",
   "metadata": {},
   "outputs": [
    {
     "data": {
      "text/html": [
       "<div>\n",
       "<style scoped>\n",
       "    .dataframe tbody tr th:only-of-type {\n",
       "        vertical-align: middle;\n",
       "    }\n",
       "\n",
       "    .dataframe tbody tr th {\n",
       "        vertical-align: top;\n",
       "    }\n",
       "\n",
       "    .dataframe thead th {\n",
       "        text-align: right;\n",
       "    }\n",
       "</style>\n",
       "<table border=\"1\" class=\"dataframe\">\n",
       "  <thead>\n",
       "    <tr style=\"text-align: right;\">\n",
       "      <th></th>\n",
       "      <th>event_time</th>\n",
       "      <th>event_type</th>\n",
       "      <th>product_id</th>\n",
       "      <th>category_id</th>\n",
       "      <th>category_code</th>\n",
       "      <th>brand</th>\n",
       "      <th>price</th>\n",
       "      <th>user_id</th>\n",
       "      <th>user_session</th>\n",
       "      <th>category</th>\n",
       "      <th>datetime</th>\n",
       "      <th>date</th>\n",
       "      <th>time</th>\n",
       "      <th>day</th>\n",
       "      <th>category_2</th>\n",
       "      <th>converted</th>\n",
       "    </tr>\n",
       "  </thead>\n",
       "  <tbody>\n",
       "    <tr>\n",
       "      <th>331</th>\n",
       "      <td>2019-10-01 00:05:14 UTC</td>\n",
       "      <td>cart</td>\n",
       "      <td>5100816</td>\n",
       "      <td>2053013553375346967</td>\n",
       "      <td>none</td>\n",
       "      <td>xiaomi</td>\n",
       "      <td>29.51</td>\n",
       "      <td>550121407</td>\n",
       "      <td>6f623695-9581-4633-813f-825b8760c7ae</td>\n",
       "      <td>none</td>\n",
       "      <td>2019-10-01 00:05:14+00:00</td>\n",
       "      <td>2019-10-01</td>\n",
       "      <td>00:05:14</td>\n",
       "      <td>Tuesday</td>\n",
       "      <td>None</td>\n",
       "      <td>0</td>\n",
       "    </tr>\n",
       "    <tr>\n",
       "      <th>583</th>\n",
       "      <td>2019-10-01 00:09:33 UTC</td>\n",
       "      <td>cart</td>\n",
       "      <td>1002524</td>\n",
       "      <td>2053013555631882655</td>\n",
       "      <td>electronics.smartphone</td>\n",
       "      <td>apple</td>\n",
       "      <td>515.67</td>\n",
       "      <td>524325294</td>\n",
       "      <td>0b74a829-f9d7-4654-b5b0-35bc9822c238</td>\n",
       "      <td>electronics</td>\n",
       "      <td>2019-10-01 00:09:33+00:00</td>\n",
       "      <td>2019-10-01</td>\n",
       "      <td>00:09:33</td>\n",
       "      <td>Tuesday</td>\n",
       "      <td>smartphone</td>\n",
       "      <td>1</td>\n",
       "    </tr>\n",
       "    <tr>\n",
       "      <th>680</th>\n",
       "      <td>2019-10-01 00:11:00 UTC</td>\n",
       "      <td>cart</td>\n",
       "      <td>4804056</td>\n",
       "      <td>2053013554658804075</td>\n",
       "      <td>electronics.audio.headphone</td>\n",
       "      <td>apple</td>\n",
       "      <td>161.98</td>\n",
       "      <td>533624186</td>\n",
       "      <td>e5ac3caa-e6d5-4d6b-ae06-2c18cd9ca683</td>\n",
       "      <td>electronics</td>\n",
       "      <td>2019-10-01 00:11:00+00:00</td>\n",
       "      <td>2019-10-01</td>\n",
       "      <td>00:11:00</td>\n",
       "      <td>Tuesday</td>\n",
       "      <td>audio</td>\n",
       "      <td>0</td>\n",
       "    </tr>\n",
       "    <tr>\n",
       "      <th>1325</th>\n",
       "      <td>2019-10-01 02:17:59 UTC</td>\n",
       "      <td>cart</td>\n",
       "      <td>1004833</td>\n",
       "      <td>2053013555631882655</td>\n",
       "      <td>electronics.smartphone</td>\n",
       "      <td>samsung</td>\n",
       "      <td>174.76</td>\n",
       "      <td>536415846</td>\n",
       "      <td>685b5b42-f597-4a69-ab4c-ef96a30bc454</td>\n",
       "      <td>electronics</td>\n",
       "      <td>2019-10-01 02:17:59+00:00</td>\n",
       "      <td>2019-10-01</td>\n",
       "      <td>02:17:59</td>\n",
       "      <td>Tuesday</td>\n",
       "      <td>smartphone</td>\n",
       "      <td>0</td>\n",
       "    </tr>\n",
       "    <tr>\n",
       "      <th>1654</th>\n",
       "      <td>2019-10-01 02:19:36 UTC</td>\n",
       "      <td>cart</td>\n",
       "      <td>1005003</td>\n",
       "      <td>2053013555631882655</td>\n",
       "      <td>electronics.smartphone</td>\n",
       "      <td>huawei</td>\n",
       "      <td>258.21</td>\n",
       "      <td>513632293</td>\n",
       "      <td>f2cc68f7-39d1-4a50-9dcf-f2a0921bdfda</td>\n",
       "      <td>electronics</td>\n",
       "      <td>2019-10-01 02:19:36+00:00</td>\n",
       "      <td>2019-10-01</td>\n",
       "      <td>02:19:36</td>\n",
       "      <td>Tuesday</td>\n",
       "      <td>smartphone</td>\n",
       "      <td>1</td>\n",
       "    </tr>\n",
       "  </tbody>\n",
       "</table>\n",
       "</div>"
      ],
      "text/plain": [
       "                   event_time event_type  product_id          category_id  \\\n",
       "331   2019-10-01 00:05:14 UTC       cart     5100816  2053013553375346967   \n",
       "583   2019-10-01 00:09:33 UTC       cart     1002524  2053013555631882655   \n",
       "680   2019-10-01 00:11:00 UTC       cart     4804056  2053013554658804075   \n",
       "1325  2019-10-01 02:17:59 UTC       cart     1004833  2053013555631882655   \n",
       "1654  2019-10-01 02:19:36 UTC       cart     1005003  2053013555631882655   \n",
       "\n",
       "                    category_code    brand   price    user_id  \\\n",
       "331                          none   xiaomi   29.51  550121407   \n",
       "583        electronics.smartphone    apple  515.67  524325294   \n",
       "680   electronics.audio.headphone    apple  161.98  533624186   \n",
       "1325       electronics.smartphone  samsung  174.76  536415846   \n",
       "1654       electronics.smartphone   huawei  258.21  513632293   \n",
       "\n",
       "                              user_session     category  \\\n",
       "331   6f623695-9581-4633-813f-825b8760c7ae         none   \n",
       "583   0b74a829-f9d7-4654-b5b0-35bc9822c238  electronics   \n",
       "680   e5ac3caa-e6d5-4d6b-ae06-2c18cd9ca683  electronics   \n",
       "1325  685b5b42-f597-4a69-ab4c-ef96a30bc454  electronics   \n",
       "1654  f2cc68f7-39d1-4a50-9dcf-f2a0921bdfda  electronics   \n",
       "\n",
       "                       datetime        date      time      day  category_2  \\\n",
       "331   2019-10-01 00:05:14+00:00  2019-10-01  00:05:14  Tuesday        None   \n",
       "583   2019-10-01 00:09:33+00:00  2019-10-01  00:09:33  Tuesday  smartphone   \n",
       "680   2019-10-01 00:11:00+00:00  2019-10-01  00:11:00  Tuesday       audio   \n",
       "1325  2019-10-01 02:17:59+00:00  2019-10-01  02:17:59  Tuesday  smartphone   \n",
       "1654  2019-10-01 02:19:36+00:00  2019-10-01  02:19:36  Tuesday  smartphone   \n",
       "\n",
       "      converted  \n",
       "331           0  \n",
       "583           1  \n",
       "680           0  \n",
       "1325          0  \n",
       "1654          1  "
      ]
     },
     "execution_count": 101,
     "metadata": {},
     "output_type": "execute_result"
    }
   ],
   "source": [
    "sliced_cart_purchase.head()"
   ]
  },
  {
   "cell_type": "code",
   "execution_count": 102,
   "id": "07166a38-e453-419d-a5b4-6c3a07ca40d0",
   "metadata": {},
   "outputs": [
    {
     "name": "stdout",
     "output_type": "stream",
     "text": [
      "Purchased/Converted: 1018645\n",
      "Not purchased/Not converted: 1663341\n"
     ]
    }
   ],
   "source": [
    "# Count number of retained converted and not converted events\n",
    "print('Purchased/Converted:', len(sliced_cart_purchase.loc[sliced_cart_purchase['converted'] == 1]))\n",
    "print('Not purchased/Not converted:', len(sliced_cart_purchase.loc[sliced_cart_purchase['converted'] == 0]))"
   ]
  },
  {
   "cell_type": "code",
   "execution_count": 103,
   "id": "b1477bfa-a9dd-49ec-be43-f947e933ce1e",
   "metadata": {},
   "outputs": [],
   "source": [
    "# Get relevant feature columns for training\n",
    "data = sliced_cart_purchase[['brand','price','category','category_2','day','converted']]"
   ]
  },
  {
   "cell_type": "code",
   "execution_count": 104,
   "id": "786a501f-f5db-41ee-81db-a56c7e6ba726",
   "metadata": {},
   "outputs": [
    {
     "data": {
      "text/html": [
       "<div>\n",
       "<style scoped>\n",
       "    .dataframe tbody tr th:only-of-type {\n",
       "        vertical-align: middle;\n",
       "    }\n",
       "\n",
       "    .dataframe tbody tr th {\n",
       "        vertical-align: top;\n",
       "    }\n",
       "\n",
       "    .dataframe thead th {\n",
       "        text-align: right;\n",
       "    }\n",
       "</style>\n",
       "<table border=\"1\" class=\"dataframe\">\n",
       "  <thead>\n",
       "    <tr style=\"text-align: right;\">\n",
       "      <th></th>\n",
       "      <th>brand</th>\n",
       "      <th>price</th>\n",
       "      <th>category</th>\n",
       "      <th>category_2</th>\n",
       "      <th>day</th>\n",
       "      <th>converted</th>\n",
       "    </tr>\n",
       "  </thead>\n",
       "  <tbody>\n",
       "    <tr>\n",
       "      <th>331</th>\n",
       "      <td>xiaomi</td>\n",
       "      <td>29.51</td>\n",
       "      <td>none</td>\n",
       "      <td>None</td>\n",
       "      <td>Tuesday</td>\n",
       "      <td>0</td>\n",
       "    </tr>\n",
       "    <tr>\n",
       "      <th>583</th>\n",
       "      <td>apple</td>\n",
       "      <td>515.67</td>\n",
       "      <td>electronics</td>\n",
       "      <td>smartphone</td>\n",
       "      <td>Tuesday</td>\n",
       "      <td>1</td>\n",
       "    </tr>\n",
       "    <tr>\n",
       "      <th>680</th>\n",
       "      <td>apple</td>\n",
       "      <td>161.98</td>\n",
       "      <td>electronics</td>\n",
       "      <td>audio</td>\n",
       "      <td>Tuesday</td>\n",
       "      <td>0</td>\n",
       "    </tr>\n",
       "    <tr>\n",
       "      <th>1325</th>\n",
       "      <td>samsung</td>\n",
       "      <td>174.76</td>\n",
       "      <td>electronics</td>\n",
       "      <td>smartphone</td>\n",
       "      <td>Tuesday</td>\n",
       "      <td>0</td>\n",
       "    </tr>\n",
       "    <tr>\n",
       "      <th>1654</th>\n",
       "      <td>huawei</td>\n",
       "      <td>258.21</td>\n",
       "      <td>electronics</td>\n",
       "      <td>smartphone</td>\n",
       "      <td>Tuesday</td>\n",
       "      <td>1</td>\n",
       "    </tr>\n",
       "  </tbody>\n",
       "</table>\n",
       "</div>"
      ],
      "text/plain": [
       "        brand   price     category  category_2      day  converted\n",
       "331    xiaomi   29.51         none        None  Tuesday          0\n",
       "583     apple  515.67  electronics  smartphone  Tuesday          1\n",
       "680     apple  161.98  electronics       audio  Tuesday          0\n",
       "1325  samsung  174.76  electronics  smartphone  Tuesday          0\n",
       "1654   huawei  258.21  electronics  smartphone  Tuesday          1"
      ]
     },
     "execution_count": 104,
     "metadata": {},
     "output_type": "execute_result"
    }
   ],
   "source": [
    "data.head()"
   ]
  },
  {
   "cell_type": "code",
   "execution_count": 105,
   "id": "a05ebbae-3c97-4082-83fd-e0dc145deb9c",
   "metadata": {},
   "outputs": [
    {
     "data": {
      "text/plain": [
       "(2681986, 6)"
      ]
     },
     "execution_count": 105,
     "metadata": {},
     "output_type": "execute_result"
    }
   ],
   "source": [
    "data.shape"
   ]
  },
  {
   "attachments": {},
   "cell_type": "markdown",
   "id": "fdf6b4e3-2a78-4b93-a43a-e87710349bf4",
   "metadata": {},
   "source": [
    "# Model training\n",
    "Some parts of this section used this as reference: https://github.com/andypwyu/eCommerce-behavior/blob/master/eCommerce%20behavior%20data%20from%20multi%20category%20store.ipynb"
   ]
  },
  {
   "attachments": {},
   "cell_type": "markdown",
   "id": "fe8c5f0a-1eaa-44b6-b1b3-cf4ed4db8fa5",
   "metadata": {},
   "source": [
    "## Rebalance the classes"
   ]
  },
  {
   "cell_type": "code",
   "execution_count": 9,
   "id": "bfc5c078-dfbd-4b40-aeec-09406eb0ec64",
   "metadata": {},
   "outputs": [],
   "source": [
    "# Separate into two dataframes for resampling\n",
    "converted = data.loc[data['converted'] == 1]\n",
    "not_converted = data.loc[data['converted'] == 0]"
   ]
  },
  {
   "cell_type": "code",
   "execution_count": 10,
   "id": "8d112317-02c2-4854-93d0-abd84018014c",
   "metadata": {},
   "outputs": [
    {
     "name": "stdout",
     "output_type": "stream",
     "text": [
      "1018645\n",
      "1663341\n"
     ]
    }
   ],
   "source": [
    "print(len(converted))\n",
    "print(len(not_converted))"
   ]
  },
  {
   "cell_type": "code",
   "execution_count": 11,
   "id": "49d472d6-5fd0-4d1f-8319-5204599c47d2",
   "metadata": {},
   "outputs": [],
   "source": [
    "# Get n_samples for each set\n",
    "n_samples = 1000000  \n",
    "converted_downsampled = resample(converted, replace = False, n_samples = n_samples, random_state = 101)\n",
    "not_converted_downsampled = resample(not_converted, replace = False, n_samples = n_samples, random_state = 101)"
   ]
  },
  {
   "cell_type": "code",
   "execution_count": 12,
   "id": "05f02d2d-f858-4e03-96b3-b9fb74afc173",
   "metadata": {},
   "outputs": [
    {
     "data": {
      "text/plain": [
       "1    1000000\n",
       "0    1000000\n",
       "Name: converted, dtype: int64"
      ]
     },
     "execution_count": 12,
     "metadata": {},
     "output_type": "execute_result"
    }
   ],
   "source": [
    "# Merge training sets\n",
    "downsampled = pd.concat([converted_downsampled, not_converted_downsampled])\n",
    "downsampled['converted'].value_counts()"
   ]
  },
  {
   "attachments": {},
   "cell_type": "markdown",
   "id": "a2535a3f-cf8c-4d78-91ae-2a9697603a0c",
   "metadata": {},
   "source": [
    "## Prepare variables for training"
   ]
  },
  {
   "attachments": {},
   "cell_type": "markdown",
   "id": "106b7dc2-5b67-4bf7-b608-3cb6759ccf28",
   "metadata": {},
   "source": [
    "### Set features"
   ]
  },
  {
   "cell_type": "code",
   "execution_count": 13,
   "id": "4b61439e-92c8-4cd0-9c85-94204b8fdbfc",
   "metadata": {},
   "outputs": [],
   "source": [
    "features = downsampled[['brand','price','category','category_2','day']]"
   ]
  },
  {
   "cell_type": "code",
   "execution_count": 14,
   "id": "87c0f45b-bc37-48d8-8ef2-e42aba06b5f9",
   "metadata": {},
   "outputs": [
    {
     "data": {
      "text/html": [
       "<div>\n",
       "<style scoped>\n",
       "    .dataframe tbody tr th:only-of-type {\n",
       "        vertical-align: middle;\n",
       "    }\n",
       "\n",
       "    .dataframe tbody tr th {\n",
       "        vertical-align: top;\n",
       "    }\n",
       "\n",
       "    .dataframe thead th {\n",
       "        text-align: right;\n",
       "    }\n",
       "</style>\n",
       "<table border=\"1\" class=\"dataframe\">\n",
       "  <thead>\n",
       "    <tr style=\"text-align: right;\">\n",
       "      <th></th>\n",
       "      <th>brand</th>\n",
       "      <th>price</th>\n",
       "      <th>category</th>\n",
       "      <th>category_2</th>\n",
       "      <th>day</th>\n",
       "    </tr>\n",
       "  </thead>\n",
       "  <tbody>\n",
       "    <tr>\n",
       "      <th>179477</th>\n",
       "      <td>apple</td>\n",
       "      <td>760.10</td>\n",
       "      <td>electronics</td>\n",
       "      <td>smartphone</td>\n",
       "      <td>Saturday</td>\n",
       "    </tr>\n",
       "    <tr>\n",
       "      <th>101887</th>\n",
       "      <td>apple</td>\n",
       "      <td>358.57</td>\n",
       "      <td>electronics</td>\n",
       "      <td>smartphone</td>\n",
       "      <td>Sunday</td>\n",
       "    </tr>\n",
       "    <tr>\n",
       "      <th>99607</th>\n",
       "      <td>samsung</td>\n",
       "      <td>131.76</td>\n",
       "      <td>electronics</td>\n",
       "      <td>smartphone</td>\n",
       "      <td>Sunday</td>\n",
       "    </tr>\n",
       "    <tr>\n",
       "      <th>469190</th>\n",
       "      <td>apple</td>\n",
       "      <td>358.54</td>\n",
       "      <td>electronics</td>\n",
       "      <td>smartphone</td>\n",
       "      <td>Wednesday</td>\n",
       "    </tr>\n",
       "    <tr>\n",
       "      <th>755707</th>\n",
       "      <td>none</td>\n",
       "      <td>25.48</td>\n",
       "      <td>none</td>\n",
       "      <td>NaN</td>\n",
       "      <td>Friday</td>\n",
       "    </tr>\n",
       "  </tbody>\n",
       "</table>\n",
       "</div>"
      ],
      "text/plain": [
       "          brand   price     category  category_2        day\n",
       "179477    apple  760.10  electronics  smartphone   Saturday\n",
       "101887    apple  358.57  electronics  smartphone     Sunday\n",
       "99607   samsung  131.76  electronics  smartphone     Sunday\n",
       "469190    apple  358.54  electronics  smartphone  Wednesday\n",
       "755707     none   25.48         none         NaN     Friday"
      ]
     },
     "execution_count": 14,
     "metadata": {},
     "output_type": "execute_result"
    }
   ],
   "source": [
    "features.head()"
   ]
  },
  {
   "attachments": {},
   "cell_type": "markdown",
   "id": "e00e71a1-7864-419e-a99d-9282ade636d8",
   "metadata": {
    "tags": []
   },
   "source": [
    "#### Encode categorical variables\n",
    "Categorical features: brand, categories, day"
   ]
  },
  {
   "cell_type": "code",
   "execution_count": 13,
   "id": "5e55e760-6bff-48dc-a449-3a4c84b066dc",
   "metadata": {},
   "outputs": [],
   "source": [
    "# Used LabelEncoder as there is a lot of categories per feature > ref: https://datascience.stackexchange.com/a/40908\n",
    "features.loc[:,'brand'] = LabelEncoder().fit_transform(downsampled.loc[:,'brand'].copy())\n",
    "features.loc[:,'category'] = LabelEncoder().fit_transform(downsampled.loc[:,'category'].copy())\n",
    "features.loc[:,'category_2'] = LabelEncoder().fit_transform(downsampled.loc[:,'category_2'].copy())\n",
    "features.loc[:,'day'] = LabelEncoder().fit_transform(downsampled.loc[:,'day'].copy())"
   ]
  },
  {
   "cell_type": "code",
   "execution_count": 14,
   "id": "9ec340d4-21cb-4f63-8e9c-29cd26a9903d",
   "metadata": {},
   "outputs": [
    {
     "data": {
      "text/html": [
       "<div>\n",
       "<style scoped>\n",
       "    .dataframe tbody tr th:only-of-type {\n",
       "        vertical-align: middle;\n",
       "    }\n",
       "\n",
       "    .dataframe tbody tr th {\n",
       "        vertical-align: top;\n",
       "    }\n",
       "\n",
       "    .dataframe thead th {\n",
       "        text-align: right;\n",
       "    }\n",
       "</style>\n",
       "<table border=\"1\" class=\"dataframe\">\n",
       "  <thead>\n",
       "    <tr style=\"text-align: right;\">\n",
       "      <th></th>\n",
       "      <th>brand</th>\n",
       "      <th>price</th>\n",
       "      <th>category</th>\n",
       "      <th>category_2</th>\n",
       "      <th>day</th>\n",
       "    </tr>\n",
       "  </thead>\n",
       "  <tbody>\n",
       "    <tr>\n",
       "      <th>179477</th>\n",
       "      <td>150</td>\n",
       "      <td>760.10</td>\n",
       "      <td>7</td>\n",
       "      <td>40</td>\n",
       "      <td>2</td>\n",
       "    </tr>\n",
       "    <tr>\n",
       "      <th>101887</th>\n",
       "      <td>150</td>\n",
       "      <td>358.57</td>\n",
       "      <td>7</td>\n",
       "      <td>40</td>\n",
       "      <td>3</td>\n",
       "    </tr>\n",
       "    <tr>\n",
       "      <th>99607</th>\n",
       "      <td>2300</td>\n",
       "      <td>131.76</td>\n",
       "      <td>7</td>\n",
       "      <td>40</td>\n",
       "      <td>3</td>\n",
       "    </tr>\n",
       "    <tr>\n",
       "      <th>469190</th>\n",
       "      <td>150</td>\n",
       "      <td>358.54</td>\n",
       "      <td>7</td>\n",
       "      <td>40</td>\n",
       "      <td>6</td>\n",
       "    </tr>\n",
       "    <tr>\n",
       "      <th>755707</th>\n",
       "      <td>1901</td>\n",
       "      <td>25.48</td>\n",
       "      <td>11</td>\n",
       "      <td>57</td>\n",
       "      <td>0</td>\n",
       "    </tr>\n",
       "  </tbody>\n",
       "</table>\n",
       "</div>"
      ],
      "text/plain": [
       "        brand   price  category  category_2  day\n",
       "179477    150  760.10         7          40    2\n",
       "101887    150  358.57         7          40    3\n",
       "99607    2300  131.76         7          40    3\n",
       "469190    150  358.54         7          40    6\n",
       "755707   1901   25.48        11          57    0"
      ]
     },
     "execution_count": 14,
     "metadata": {},
     "output_type": "execute_result"
    }
   ],
   "source": [
    "features.head()"
   ]
  },
  {
   "attachments": {},
   "cell_type": "markdown",
   "id": "fb2d1344-94e5-47d6-b323-67022d181c6a",
   "metadata": {
    "tags": []
   },
   "source": [
    "### Set target"
   ]
  },
  {
   "cell_type": "code",
   "execution_count": 15,
   "id": "541abe85-e97b-4d4e-a865-3744119ed2ac",
   "metadata": {},
   "outputs": [
    {
     "data": {
      "text/plain": [
       "array([1, 1, 1, ..., 0, 0, 0])"
      ]
     },
     "execution_count": 15,
     "metadata": {},
     "output_type": "execute_result"
    }
   ],
   "source": [
    "target = downsampled['converted'].values\n",
    "target"
   ]
  },
  {
   "attachments": {},
   "cell_type": "markdown",
   "id": "cb24a7a3-dce3-4881-9ac3-980e221ea4c3",
   "metadata": {},
   "source": [
    "## Save dataset for deployment to cloud-based ML platform"
   ]
  },
  {
   "cell_type": "code",
   "execution_count": 45,
   "id": "a8eab135-8a70-4155-bfa7-a7605b979793",
   "metadata": {},
   "outputs": [
    {
     "data": {
      "text/html": [
       "<div>\n",
       "<style scoped>\n",
       "    .dataframe tbody tr th:only-of-type {\n",
       "        vertical-align: middle;\n",
       "    }\n",
       "\n",
       "    .dataframe tbody tr th {\n",
       "        vertical-align: top;\n",
       "    }\n",
       "\n",
       "    .dataframe thead th {\n",
       "        text-align: right;\n",
       "    }\n",
       "</style>\n",
       "<table border=\"1\" class=\"dataframe\">\n",
       "  <thead>\n",
       "    <tr style=\"text-align: right;\">\n",
       "      <th></th>\n",
       "      <th>brand</th>\n",
       "      <th>price</th>\n",
       "      <th>category</th>\n",
       "      <th>category_2</th>\n",
       "      <th>day</th>\n",
       "      <th>target</th>\n",
       "    </tr>\n",
       "  </thead>\n",
       "  <tbody>\n",
       "    <tr>\n",
       "      <th>179477</th>\n",
       "      <td>apple</td>\n",
       "      <td>760.10</td>\n",
       "      <td>electronics</td>\n",
       "      <td>smartphone</td>\n",
       "      <td>Saturday</td>\n",
       "      <td>1</td>\n",
       "    </tr>\n",
       "    <tr>\n",
       "      <th>101887</th>\n",
       "      <td>apple</td>\n",
       "      <td>358.57</td>\n",
       "      <td>electronics</td>\n",
       "      <td>smartphone</td>\n",
       "      <td>Sunday</td>\n",
       "      <td>1</td>\n",
       "    </tr>\n",
       "    <tr>\n",
       "      <th>99607</th>\n",
       "      <td>samsung</td>\n",
       "      <td>131.76</td>\n",
       "      <td>electronics</td>\n",
       "      <td>smartphone</td>\n",
       "      <td>Sunday</td>\n",
       "      <td>1</td>\n",
       "    </tr>\n",
       "    <tr>\n",
       "      <th>469190</th>\n",
       "      <td>apple</td>\n",
       "      <td>358.54</td>\n",
       "      <td>electronics</td>\n",
       "      <td>smartphone</td>\n",
       "      <td>Wednesday</td>\n",
       "      <td>1</td>\n",
       "    </tr>\n",
       "    <tr>\n",
       "      <th>755707</th>\n",
       "      <td>none</td>\n",
       "      <td>25.48</td>\n",
       "      <td>none</td>\n",
       "      <td>NaN</td>\n",
       "      <td>Friday</td>\n",
       "      <td>1</td>\n",
       "    </tr>\n",
       "  </tbody>\n",
       "</table>\n",
       "</div>"
      ],
      "text/plain": [
       "          brand   price     category  category_2        day  target\n",
       "179477    apple  760.10  electronics  smartphone   Saturday       1\n",
       "101887    apple  358.57  electronics  smartphone     Sunday       1\n",
       "99607   samsung  131.76  electronics  smartphone     Sunday       1\n",
       "469190    apple  358.54  electronics  smartphone  Wednesday       1\n",
       "755707     none   25.48         none         NaN     Friday       1"
      ]
     },
     "execution_count": 45,
     "metadata": {},
     "output_type": "execute_result"
    }
   ],
   "source": [
    "# Create new dataset with encoded features\n",
    "out = features.copy()\n",
    "out['target'] = downsampled['converted'].values\n",
    "out.head()"
   ]
  },
  {
   "cell_type": "code",
   "execution_count": 17,
   "id": "bebca8fb-7e7f-4f05-b55f-cfec1cfd3759",
   "metadata": {},
   "outputs": [
    {
     "data": {
      "text/plain": [
       "(2000000, 6)"
      ]
     },
     "execution_count": 17,
     "metadata": {},
     "output_type": "execute_result"
    }
   ],
   "source": [
    "out.shape"
   ]
  },
  {
   "cell_type": "code",
   "execution_count": 18,
   "id": "99c399ca-d3dc-46c3-bf19-9e7fb3cdec46",
   "metadata": {},
   "outputs": [],
   "source": [
    "features = out[['brand','price','category','category_2','day']]\n",
    "target = out['target'].values"
   ]
  },
  {
   "cell_type": "code",
   "execution_count": 22,
   "id": "d0486ba1-ae7d-41f5-ae09-e4cc8eaab122",
   "metadata": {},
   "outputs": [
    {
     "name": "stdout",
     "output_type": "stream",
     "text": [
      "2000000\n"
     ]
    },
    {
     "data": {
      "text/html": [
       "<div>\n",
       "<style scoped>\n",
       "    .dataframe tbody tr th:only-of-type {\n",
       "        vertical-align: middle;\n",
       "    }\n",
       "\n",
       "    .dataframe tbody tr th {\n",
       "        vertical-align: top;\n",
       "    }\n",
       "\n",
       "    .dataframe thead th {\n",
       "        text-align: right;\n",
       "    }\n",
       "</style>\n",
       "<table border=\"1\" class=\"dataframe\">\n",
       "  <thead>\n",
       "    <tr style=\"text-align: right;\">\n",
       "      <th></th>\n",
       "      <th>brand</th>\n",
       "      <th>price</th>\n",
       "      <th>category</th>\n",
       "      <th>category_2</th>\n",
       "      <th>day</th>\n",
       "    </tr>\n",
       "  </thead>\n",
       "  <tbody>\n",
       "    <tr>\n",
       "      <th>179477</th>\n",
       "      <td>apple</td>\n",
       "      <td>760.10</td>\n",
       "      <td>electronics</td>\n",
       "      <td>smartphone</td>\n",
       "      <td>Saturday</td>\n",
       "    </tr>\n",
       "    <tr>\n",
       "      <th>101887</th>\n",
       "      <td>apple</td>\n",
       "      <td>358.57</td>\n",
       "      <td>electronics</td>\n",
       "      <td>smartphone</td>\n",
       "      <td>Sunday</td>\n",
       "    </tr>\n",
       "    <tr>\n",
       "      <th>99607</th>\n",
       "      <td>samsung</td>\n",
       "      <td>131.76</td>\n",
       "      <td>electronics</td>\n",
       "      <td>smartphone</td>\n",
       "      <td>Sunday</td>\n",
       "    </tr>\n",
       "    <tr>\n",
       "      <th>469190</th>\n",
       "      <td>apple</td>\n",
       "      <td>358.54</td>\n",
       "      <td>electronics</td>\n",
       "      <td>smartphone</td>\n",
       "      <td>Wednesday</td>\n",
       "    </tr>\n",
       "    <tr>\n",
       "      <th>755707</th>\n",
       "      <td>none</td>\n",
       "      <td>25.48</td>\n",
       "      <td>none</td>\n",
       "      <td>NaN</td>\n",
       "      <td>Friday</td>\n",
       "    </tr>\n",
       "  </tbody>\n",
       "</table>\n",
       "</div>"
      ],
      "text/plain": [
       "          brand   price     category  category_2        day\n",
       "179477    apple  760.10  electronics  smartphone   Saturday\n",
       "101887    apple  358.57  electronics  smartphone     Sunday\n",
       "99607   samsung  131.76  electronics  smartphone     Sunday\n",
       "469190    apple  358.54  electronics  smartphone  Wednesday\n",
       "755707     none   25.48         none         NaN     Friday"
      ]
     },
     "execution_count": 22,
     "metadata": {},
     "output_type": "execute_result"
    }
   ],
   "source": [
    "print(len(features))\n",
    "features.head()"
   ]
  },
  {
   "cell_type": "code",
   "execution_count": 21,
   "id": "1714ce3d-3487-48d8-a8fe-f703ab1ebfb7",
   "metadata": {},
   "outputs": [
    {
     "name": "stdout",
     "output_type": "stream",
     "text": [
      "2000000\n"
     ]
    },
    {
     "data": {
      "text/plain": [
       "array([1, 1, 1, ..., 0, 0, 0])"
      ]
     },
     "execution_count": 21,
     "metadata": {},
     "output_type": "execute_result"
    }
   ],
   "source": [
    "print(len(target))\n",
    "target"
   ]
  },
  {
   "cell_type": "code",
   "execution_count": 23,
   "id": "f2086dfa-a998-407f-b25b-65cbe9cf5d45",
   "metadata": {},
   "outputs": [],
   "source": [
    "# Randomly assign records into training and testing sets\n",
    "test_size = 0.3\n",
    "X_train, X_test, y_train, y_test = train_test_split(features, target, test_size = test_size, random_state = 123)"
   ]
  },
  {
   "cell_type": "code",
   "execution_count": 26,
   "id": "3cb3073a-42b6-422a-b7f9-4938953d06b9",
   "metadata": {},
   "outputs": [
    {
     "name": "stdout",
     "output_type": "stream",
     "text": [
      "1400000\n",
      "1400000\n"
     ]
    }
   ],
   "source": [
    "# Export training set\n",
    "print(len(X_train))\n",
    "print(len(y_train))\n",
    "training_set = X_train.copy()\n",
    "training_set['target'] = y_train"
   ]
  },
  {
   "cell_type": "code",
   "execution_count": 27,
   "id": "3621958b-a4fe-44e2-b2bc-ff33f60c8c5e",
   "metadata": {},
   "outputs": [
    {
     "name": "stdout",
     "output_type": "stream",
     "text": [
      "(1400000, 6)\n"
     ]
    },
    {
     "data": {
      "text/html": [
       "<div>\n",
       "<style scoped>\n",
       "    .dataframe tbody tr th:only-of-type {\n",
       "        vertical-align: middle;\n",
       "    }\n",
       "\n",
       "    .dataframe tbody tr th {\n",
       "        vertical-align: top;\n",
       "    }\n",
       "\n",
       "    .dataframe thead th {\n",
       "        text-align: right;\n",
       "    }\n",
       "</style>\n",
       "<table border=\"1\" class=\"dataframe\">\n",
       "  <thead>\n",
       "    <tr style=\"text-align: right;\">\n",
       "      <th></th>\n",
       "      <th>brand</th>\n",
       "      <th>price</th>\n",
       "      <th>category</th>\n",
       "      <th>category_2</th>\n",
       "      <th>day</th>\n",
       "      <th>target</th>\n",
       "    </tr>\n",
       "  </thead>\n",
       "  <tbody>\n",
       "    <tr>\n",
       "      <th>1262482</th>\n",
       "      <td>apple</td>\n",
       "      <td>1421.76</td>\n",
       "      <td>electronics</td>\n",
       "      <td>smartphone</td>\n",
       "      <td>Friday</td>\n",
       "      <td>0</td>\n",
       "    </tr>\n",
       "    <tr>\n",
       "      <th>2600328</th>\n",
       "      <td>apple</td>\n",
       "      <td>196.30</td>\n",
       "      <td>electronics</td>\n",
       "      <td>audio</td>\n",
       "      <td>Friday</td>\n",
       "      <td>1</td>\n",
       "    </tr>\n",
       "    <tr>\n",
       "      <th>829574</th>\n",
       "      <td>samsung</td>\n",
       "      <td>266.56</td>\n",
       "      <td>electronics</td>\n",
       "      <td>smartphone</td>\n",
       "      <td>Sunday</td>\n",
       "      <td>1</td>\n",
       "    </tr>\n",
       "    <tr>\n",
       "      <th>2001376</th>\n",
       "      <td>arg</td>\n",
       "      <td>59.18</td>\n",
       "      <td>appliances</td>\n",
       "      <td>kitchen</td>\n",
       "      <td>Sunday</td>\n",
       "      <td>1</td>\n",
       "    </tr>\n",
       "    <tr>\n",
       "      <th>1896653</th>\n",
       "      <td>panasonic</td>\n",
       "      <td>87.49</td>\n",
       "      <td>none</td>\n",
       "      <td>NaN</td>\n",
       "      <td>Sunday</td>\n",
       "      <td>1</td>\n",
       "    </tr>\n",
       "  </tbody>\n",
       "</table>\n",
       "</div>"
      ],
      "text/plain": [
       "             brand    price     category  category_2     day  target\n",
       "1262482      apple  1421.76  electronics  smartphone  Friday       0\n",
       "2600328      apple   196.30  electronics       audio  Friday       1\n",
       "829574     samsung   266.56  electronics  smartphone  Sunday       1\n",
       "2001376        arg    59.18   appliances     kitchen  Sunday       1\n",
       "1896653  panasonic    87.49         none         NaN  Sunday       1"
      ]
     },
     "execution_count": 27,
     "metadata": {},
     "output_type": "execute_result"
    }
   ],
   "source": [
    "print(training_set.shape)\n",
    "training_set.head()"
   ]
  },
  {
   "cell_type": "code",
   "execution_count": 33,
   "id": "f7f6b967-dcaa-40e3-9df0-b4afc40ed06e",
   "metadata": {},
   "outputs": [
    {
     "data": {
      "text/plain": [
       "numpy.ndarray"
      ]
     },
     "execution_count": 33,
     "metadata": {},
     "output_type": "execute_result"
    }
   ],
   "source": [
    "type(y_train)"
   ]
  },
  {
   "cell_type": "code",
   "execution_count": 28,
   "id": "0045a6ea-5dc0-4578-9705-b80a34c69a3d",
   "metadata": {},
   "outputs": [],
   "source": [
    "# Save to csv\n",
    "training_set.to_csv('training_set.csv', index=False)"
   ]
  },
  {
   "cell_type": "code",
   "execution_count": 41,
   "id": "59dffd21-1bc4-4bbc-831c-b3c9d4137c4a",
   "metadata": {},
   "outputs": [
    {
     "data": {
      "text/html": [
       "<div>\n",
       "<style scoped>\n",
       "    .dataframe tbody tr th:only-of-type {\n",
       "        vertical-align: middle;\n",
       "    }\n",
       "\n",
       "    .dataframe tbody tr th {\n",
       "        vertical-align: top;\n",
       "    }\n",
       "\n",
       "    .dataframe thead th {\n",
       "        text-align: right;\n",
       "    }\n",
       "</style>\n",
       "<table border=\"1\" class=\"dataframe\">\n",
       "  <thead>\n",
       "    <tr style=\"text-align: right;\">\n",
       "      <th></th>\n",
       "      <th>target</th>\n",
       "    </tr>\n",
       "  </thead>\n",
       "  <tbody>\n",
       "    <tr>\n",
       "      <th>0</th>\n",
       "      <td>0</td>\n",
       "    </tr>\n",
       "    <tr>\n",
       "      <th>1</th>\n",
       "      <td>1</td>\n",
       "    </tr>\n",
       "    <tr>\n",
       "      <th>2</th>\n",
       "      <td>1</td>\n",
       "    </tr>\n",
       "    <tr>\n",
       "      <th>3</th>\n",
       "      <td>1</td>\n",
       "    </tr>\n",
       "    <tr>\n",
       "      <th>4</th>\n",
       "      <td>1</td>\n",
       "    </tr>\n",
       "  </tbody>\n",
       "</table>\n",
       "</div>"
      ],
      "text/plain": [
       "   target\n",
       "0       0\n",
       "1       1\n",
       "2       1\n",
       "3       1\n",
       "4       1"
      ]
     },
     "execution_count": 41,
     "metadata": {},
     "output_type": "execute_result"
    }
   ],
   "source": [
    "target_df = pd.DataFrame(y_train)\n",
    "target_df.columns = ['target']\n",
    "target_df.head()"
   ]
  },
  {
   "cell_type": "code",
   "execution_count": 42,
   "id": "c43e52f3-1eee-4d91-92a0-c9182335c20f",
   "metadata": {},
   "outputs": [],
   "source": [
    "# Save separate csv for X and y data\n",
    "X_train.to_csv('data.csv', index=False)\n",
    "target_df.to_csv('target.csv', index=False)"
   ]
  },
  {
   "cell_type": "code",
   "execution_count": 43,
   "id": "447410da-23b7-4b55-807f-6fac02379604",
   "metadata": {},
   "outputs": [
    {
     "name": "stdout",
     "output_type": "stream",
     "text": [
      "(1400000, 5)\n",
      "(1400000, 1)\n"
     ]
    }
   ],
   "source": [
    "print(X_train.shape)\n",
    "print(target_df.shape)"
   ]
  },
  {
   "attachments": {},
   "cell_type": "markdown",
   "id": "61f8dd2e-bece-42e3-b548-190952129178",
   "metadata": {
    "tags": []
   },
   "source": [
    "## Train XGBoost classifier"
   ]
  },
  {
   "cell_type": "code",
   "execution_count": 142,
   "id": "9171154f-73a4-432e-97e8-84e3a5a1ed81",
   "metadata": {},
   "outputs": [],
   "source": [
    "# Fit classifer\n",
    "xgb = XGBClassifier()\n",
    "xgb.fit(X_train, y_train)\n",
    "y_pred_xgb = xgb.predict(X_test)"
   ]
  },
  {
   "cell_type": "code",
   "execution_count": 143,
   "id": "6844c476-ff7c-4df1-9155-5ac98c87af8c",
   "metadata": {},
   "outputs": [
    {
     "data": {
      "text/plain": [
       "array([[178606, 121770],\n",
       "       [ 87597, 212027]])"
      ]
     },
     "execution_count": 143,
     "metadata": {},
     "output_type": "execute_result"
    }
   ],
   "source": [
    "# Get confusion matrix\n",
    "confusion_matrix(y_test, y_pred_xgb)"
   ]
  },
  {
   "cell_type": "code",
   "execution_count": 144,
   "id": "1fd85136-84ac-4692-8190-835edcab7432",
   "metadata": {},
   "outputs": [
    {
     "name": "stdout",
     "output_type": "stream",
     "text": [
      "              precision    recall  f1-score   support\n",
      "\n",
      "           0       0.67      0.59      0.63    300376\n",
      "           1       0.64      0.71      0.67    299624\n",
      "\n",
      "    accuracy                           0.65    600000\n",
      "   macro avg       0.65      0.65      0.65    600000\n",
      "weighted avg       0.65      0.65      0.65    600000\n",
      "\n"
     ]
    }
   ],
   "source": [
    "# Get classification report\n",
    "print(classification_report(y_test, y_pred_xgb))"
   ]
  },
  {
   "cell_type": "code",
   "execution_count": 145,
   "id": "9790ce95-8c44-4002-a68b-c3019ca5dd5a",
   "metadata": {},
   "outputs": [
    {
     "data": {
      "image/png": "[encoded data removed]",
      "text/plain": [
       "<Figure size 360x360 with 1 Axes>"
      ]
     },
     "metadata": {
      "needs_background": "light"
     },
     "output_type": "display_data"
    }
   ],
   "source": [
    "# Feature importance\n",
    "plot_importance(xgb, max_num_features=5, importance_type ='gain')\n",
    "plt.rcParams['figure.figsize'] = (5,5)\n",
    "plt.show()"
   ]
  },
  {
   "attachments": {},
   "cell_type": "markdown",
   "id": "36ae02e5-eb43-4657-81bb-1d2f062c739a",
   "metadata": {
    "tags": []
   },
   "source": [
    "### Test: Reduce features based on result of feature importance"
   ]
  },
  {
   "cell_type": "code",
   "execution_count": 23,
   "id": "41a36ddf-abfd-464d-bd1e-a04f31d4d4ce",
   "metadata": {},
   "outputs": [
    {
     "data": {
      "text/html": [
       "<div>\n",
       "<style scoped>\n",
       "    .dataframe tbody tr th:only-of-type {\n",
       "        vertical-align: middle;\n",
       "    }\n",
       "\n",
       "    .dataframe tbody tr th {\n",
       "        vertical-align: top;\n",
       "    }\n",
       "\n",
       "    .dataframe thead th {\n",
       "        text-align: right;\n",
       "    }\n",
       "</style>\n",
       "<table border=\"1\" class=\"dataframe\">\n",
       "  <thead>\n",
       "    <tr style=\"text-align: right;\">\n",
       "      <th></th>\n",
       "      <th>brand</th>\n",
       "      <th>price</th>\n",
       "      <th>category</th>\n",
       "      <th>day</th>\n",
       "    </tr>\n",
       "  </thead>\n",
       "  <tbody>\n",
       "    <tr>\n",
       "      <th>179477</th>\n",
       "      <td>150</td>\n",
       "      <td>760.10</td>\n",
       "      <td>7</td>\n",
       "      <td>2</td>\n",
       "    </tr>\n",
       "    <tr>\n",
       "      <th>101887</th>\n",
       "      <td>150</td>\n",
       "      <td>358.57</td>\n",
       "      <td>7</td>\n",
       "      <td>3</td>\n",
       "    </tr>\n",
       "    <tr>\n",
       "      <th>99607</th>\n",
       "      <td>2300</td>\n",
       "      <td>131.76</td>\n",
       "      <td>7</td>\n",
       "      <td>3</td>\n",
       "    </tr>\n",
       "    <tr>\n",
       "      <th>469190</th>\n",
       "      <td>150</td>\n",
       "      <td>358.54</td>\n",
       "      <td>7</td>\n",
       "      <td>6</td>\n",
       "    </tr>\n",
       "    <tr>\n",
       "      <th>755707</th>\n",
       "      <td>1901</td>\n",
       "      <td>25.48</td>\n",
       "      <td>11</td>\n",
       "      <td>0</td>\n",
       "    </tr>\n",
       "  </tbody>\n",
       "</table>\n",
       "</div>"
      ],
      "text/plain": [
       "        brand   price  category  day\n",
       "179477    150  760.10         7    2\n",
       "101887    150  358.57         7    3\n",
       "99607    2300  131.76         7    3\n",
       "469190    150  358.54         7    6\n",
       "755707   1901   25.48        11    0"
      ]
     },
     "execution_count": 23,
     "metadata": {},
     "output_type": "execute_result"
    }
   ],
   "source": [
    "features.head()"
   ]
  },
  {
   "cell_type": "code",
   "execution_count": 22,
   "id": "75105289-6ee8-488c-a168-beb22958bb25",
   "metadata": {},
   "outputs": [
    {
     "data": {
      "text/html": [
       "<div>\n",
       "<style scoped>\n",
       "    .dataframe tbody tr th:only-of-type {\n",
       "        vertical-align: middle;\n",
       "    }\n",
       "\n",
       "    .dataframe tbody tr th {\n",
       "        vertical-align: top;\n",
       "    }\n",
       "\n",
       "    .dataframe thead th {\n",
       "        text-align: right;\n",
       "    }\n",
       "</style>\n",
       "<table border=\"1\" class=\"dataframe\">\n",
       "  <thead>\n",
       "    <tr style=\"text-align: right;\">\n",
       "      <th></th>\n",
       "      <th>day</th>\n",
       "      <th>category</th>\n",
       "      <th>price</th>\n",
       "    </tr>\n",
       "  </thead>\n",
       "  <tbody>\n",
       "    <tr>\n",
       "      <th>179477</th>\n",
       "      <td>2</td>\n",
       "      <td>7</td>\n",
       "      <td>760.10</td>\n",
       "    </tr>\n",
       "    <tr>\n",
       "      <th>101887</th>\n",
       "      <td>3</td>\n",
       "      <td>7</td>\n",
       "      <td>358.57</td>\n",
       "    </tr>\n",
       "    <tr>\n",
       "      <th>99607</th>\n",
       "      <td>3</td>\n",
       "      <td>7</td>\n",
       "      <td>131.76</td>\n",
       "    </tr>\n",
       "    <tr>\n",
       "      <th>469190</th>\n",
       "      <td>6</td>\n",
       "      <td>7</td>\n",
       "      <td>358.54</td>\n",
       "    </tr>\n",
       "    <tr>\n",
       "      <th>755707</th>\n",
       "      <td>0</td>\n",
       "      <td>11</td>\n",
       "      <td>25.48</td>\n",
       "    </tr>\n",
       "  </tbody>\n",
       "</table>\n",
       "</div>"
      ],
      "text/plain": [
       "        day  category   price\n",
       "179477    2         7  760.10\n",
       "101887    3         7  358.57\n",
       "99607     3         7  131.76\n",
       "469190    6         7  358.54\n",
       "755707    0        11   25.48"
      ]
     },
     "execution_count": 22,
     "metadata": {},
     "output_type": "execute_result"
    }
   ],
   "source": [
    "reduced_features = features[['day','category','price']]\n",
    "reduced_features.head()"
   ]
  },
  {
   "attachments": {},
   "cell_type": "markdown",
   "id": "5661d55a-a1c0-4e75-8b00-a112fb61f58f",
   "metadata": {},
   "source": [
    "### Get new train-test-split"
   ]
  },
  {
   "cell_type": "code",
   "execution_count": 24,
   "id": "262f8422-4e4e-489c-be66-6d0b4ad5b852",
   "metadata": {},
   "outputs": [],
   "source": [
    "# Randomly assign records into training and testing sets\n",
    "test_size = 0.3\n",
    "X_tr, X_te, y_tr, y_te = train_test_split(reduced_features, target, test_size=test_size, random_state=123)"
   ]
  },
  {
   "attachments": {},
   "cell_type": "markdown",
   "id": "0964a3df-5753-442b-a0cc-bd78c75dcb56",
   "metadata": {},
   "source": [
    "### Fit classifier on reduced features"
   ]
  },
  {
   "cell_type": "code",
   "execution_count": 28,
   "id": "940a79df-b377-4bd5-836f-fada3ef9c73e",
   "metadata": {},
   "outputs": [],
   "source": [
    "# Fit classifer\n",
    "reduc_xgb = XGBClassifier().fit(X_tr, y_tr)\n",
    "y_pred_xgb_reduc = reduc_xgb.predict(X_te)"
   ]
  },
  {
   "cell_type": "code",
   "execution_count": 29,
   "id": "572f734e-519b-4d56-bb98-b8333d20d9e2",
   "metadata": {},
   "outputs": [
    {
     "name": "stdout",
     "output_type": "stream",
     "text": [
      "[[176884 123492]\n",
      " [ 88869 210755]]\n",
      "              precision    recall  f1-score   support\n",
      "\n",
      "           0       0.67      0.59      0.62    300376\n",
      "           1       0.63      0.70      0.66    299624\n",
      "\n",
      "    accuracy                           0.65    600000\n",
      "   macro avg       0.65      0.65      0.64    600000\n",
      "weighted avg       0.65      0.65      0.64    600000\n",
      "\n"
     ]
    }
   ],
   "source": [
    "# Get confusion matrix\n",
    "print(confusion_matrix(y_te, y_pred_xgb_reduc))\n",
    "\n",
    "# Get classification report\n",
    "print(classification_report(y_te, y_pred_xgb_reduc))"
   ]
  },
  {
   "cell_type": "code",
   "execution_count": 30,
   "id": "754d902e-d14e-45c2-bca5-25ad22e70807",
   "metadata": {},
   "outputs": [
    {
     "data": {
      "image/png": "[encoded data removed]",
      "text/plain": [
       "<Figure size 360x360 with 1 Axes>"
      ]
     },
     "metadata": {
      "needs_background": "light"
     },
     "output_type": "display_data"
    }
   ],
   "source": [
    "# Feature importance\n",
    "plot_importance(reduc_xgb, max_num_features=3, importance_type ='gain')\n",
    "plt.rcParams['figure.figsize'] = (5,5)\n",
    "plt.show()"
   ]
  },
  {
   "attachments": {},
   "cell_type": "markdown",
   "id": "a383a881-b9ce-415a-9b6c-390acf4913a2",
   "metadata": {},
   "source": [
    "**Note:** No significant difference found in the model's performance metrics after the features were reduced."
   ]
  }
 ],
 "metadata": {
  "kernelspec": {
   "display_name": "Python 3 (ipykernel)",
   "language": "python",
   "name": "python3"
  },
  "language_info": {
   "codemirror_mode": {
    "name": "ipython",
    "version": 3
   },
   "file_extension": ".py",
   "mimetype": "text/x-python",
   "name": "python",
   "nbconvert_exporter": "python",
   "pygments_lexer": "ipython3",
   "version": "3.9.7"
  }
 },
 "nbformat": 4,
 "nbformat_minor": 5
}
